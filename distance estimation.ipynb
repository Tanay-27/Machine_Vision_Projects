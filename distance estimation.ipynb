{
 "cells": [
  {
   "cell_type": "code",
   "execution_count": 1,
   "metadata": {},
   "outputs": [],
   "source": [
    "# Importing necessary libraries\n",
    "import cv2\n",
    "import numpy as np"
   ]
  },
  {
   "cell_type": "code",
   "execution_count": 38,
   "metadata": {},
   "outputs": [],
   "source": [
    "# We will write a function to detect circle in image and return its diameter aka width\n",
    "def circle_width(img):\n",
    "    # Detecting all the circles using Hough Transform\n",
    "    circles = cv2.HoughCircles(img,cv2.HOUGH_GRADIENT,1.1,20) \n",
    "    rmax = 0\n",
    "    xmax, ymax = 0,0\n",
    "    if circles is not None:\n",
    "        # convert the (x, y) coordinates and radius of the circles to integers\n",
    "        circles = np.round(circles[0, :]).astype(\"int\")\n",
    "        # loop over the (x, y) coordinates and radius of the circles\n",
    "        for (x, y, r) in circles:\n",
    "            if r>rmax:\n",
    "                rmax = r\n",
    "        for (x,y,r) in circles:\n",
    "            if r == rmax:\n",
    "                xmax,ymax = x,y\n",
    "    return (rmax,xmax,ymax) # diameter is twice the radius"
   ]
  },
  {
   "cell_type": "code",
   "execution_count": 33,
   "metadata": {},
   "outputs": [],
   "source": [
    "# Now we will store the reference image width based on known distance of 2 feet\n",
    "# initialize the known distance from the camera to the object, which in this case is 24 inches\n",
    "KNOWN_DISTANCE = 24.0\n",
    "# initialize the known object width, which in this case, the circle is 4 inches\n",
    "#KNOWN_WIDTH = 3.0\n",
    "# load the furst image that contains an object that is KNOWN TO BE 2 feet\n",
    "# from our camera, then find the paper marker in the image, and initialize the focal length\n",
    "def setup(image,KNOWN_WIDTH):\n",
    "#image = cv2.imread(\".png\")\n",
    "    r,_,_ = circle_width(image)\n",
    "    width = r*2\n",
    "    return ((width * KNOWN_DISTANCE) / KNOWN_WIDTH)\n",
    "img = cv2.imread('circle.jpg')  \n",
    "img = cv2.cvtColor(img, cv2.COLOR_BGR2GRAY) \n",
    "focal_length = setup(img,3.0)"
   ]
  },
  {
   "cell_type": "code",
   "execution_count": 34,
   "metadata": {},
   "outputs": [],
   "source": [
    "def distance_to_camera(knownWidth, focalLength, pixelwidth):\n",
    "# compute and return the distance from the circle to the camera\n",
    "    return (knownWidth * focalLength) / pixelwidth"
   ]
  },
  {
   "cell_type": "code",
   "execution_count": 35,
   "metadata": {},
   "outputs": [
    {
     "name": "stdout",
     "output_type": "stream",
     "text": [
      "1008.0\n"
     ]
    }
   ],
   "source": [
    "print(focal_length)"
   ]
  },
  {
   "cell_type": "code",
   "execution_count": 42,
   "metadata": {},
   "outputs": [],
   "source": [
    "# Taking input from webcam\n",
    "cap = cv2.VideoCapture(0)"
   ]
  },
  {
   "cell_type": "code",
   "execution_count": 45,
   "metadata": {},
   "outputs": [
    {
     "name": "stderr",
     "output_type": "stream",
     "text": [
      "D:\\tanay\\anaconda\\lib\\site-packages\\ipykernel_launcher.py:8: RuntimeWarning: divide by zero encountered in double_scalars\n",
      "  \n"
     ]
    }
   ],
   "source": [
    "# Now we can continously read the images and calculate distance in real time\n",
    "while(cap.isOpened()):\n",
    "    _,image = cap.read()\n",
    "    image = cv2.flip(image, 1) \n",
    "    img = cv2.cvtColor(image, cv2.COLOR_BGR2GRAY) \n",
    "    r ,x ,y = circle_width(img)\n",
    "    width = r*2\n",
    "    inches = 5*focal_length/width       #distance_to_camera(5, focal_length, width)\n",
    "    #display the distance in feet\n",
    "    cv2.putText(image, \"%.1fft\" % (inches / 12),\n",
    "        (20, 50), cv2.FONT_HERSHEY_SIMPLEX,\n",
    "        2.0, (0, 255, 0), 3)\n",
    "    if x!=0 and y != 0:\n",
    "        image = cv2.circle(image, (x,y), r, (255,10,10), 2)\n",
    "    cv2.imshow(\"image\", image)\n",
    "    k= cv2.waitKey(10) \n",
    "    if k == 27: \n",
    "        break"
   ]
  },
  {
   "cell_type": "code",
   "execution_count": 46,
   "metadata": {},
   "outputs": [],
   "source": [
    "cap.release()"
   ]
  }
 ],
 "metadata": {
  "kernelspec": {
   "display_name": "Python 3",
   "language": "python",
   "name": "python3"
  },
  "language_info": {
   "codemirror_mode": {
    "name": "ipython",
    "version": 3
   },
   "file_extension": ".py",
   "mimetype": "text/x-python",
   "name": "python",
   "nbconvert_exporter": "python",
   "pygments_lexer": "ipython3",
   "version": "3.7.3"
  }
 },
 "nbformat": 4,
 "nbformat_minor": 2
}
