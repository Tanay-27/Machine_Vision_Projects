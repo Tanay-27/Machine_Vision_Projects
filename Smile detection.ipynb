{
 "cells": [
  {
   "cell_type": "code",
   "execution_count": 1,
   "metadata": {},
   "outputs": [],
   "source": [
    "import cv2\n",
    "import matplotlib.pyplot as plt\n",
    "import numpy as np"
   ]
  },
  {
   "cell_type": "code",
   "execution_count": 2,
   "metadata": {},
   "outputs": [],
   "source": [
    "face_cascade =cv2.CascadeClassifier(cv2.data.haarcascades + \"haarcascade_frontalface_default.xml\")\n",
    "eye_cascade = cv2.CascadeClassifier('haarcascade_eye.xml') \n",
    "smile_cascade = cv2.CascadeClassifier('haarcascade_smile.xml') \n"
   ]
  },
  {
   "cell_type": "code",
   "execution_count": 3,
   "metadata": {},
   "outputs": [],
   "source": [
    "def smiledetect(frame): \n",
    "    ''' This function takes in the image frame as input either in video or image mode and returns a frame with \n",
    "    the face enclosed in blue and smile enclosed in red'''\n",
    "    # Converting to gray scale for detection\n",
    "    gray = cv2.cvtColor(frame, cv2.COLOR_BGR2GRAY) \n",
    "    # Detecting multiple faces from the grayscale image this returns the corner locations of the face region of interest\n",
    "    faces = face_cascade.detectMultiScale(gray, 1.3, 5) \n",
    "    for (x, y, w, h) in faces: \n",
    "        # Draw the blue colored rectangle around the face if detected\n",
    "        cv2.rectangle(frame, (x, y), ((x + w), (y + h)), (255, 0, 0), 2) \n",
    "        # Taking only the region where face s found to process for smile \n",
    "        # this reduces the false positives as well as speeds up processing\n",
    "        roi_gray = gray[y:y + h, x:x + w] \n",
    "        roi_color = frame[y:y + h, x:x + w] \n",
    "        # Detect smiles in the image\n",
    "        smiles = smile_cascade.detectMultiScale(roi_gray, 1.8, 35) \n",
    "        # Draw a rectangle around the smile detected\n",
    "        for (sx, sy, sw, sh) in smiles: \n",
    "            cv2.rectangle(roi_color, (sx, sy), ((sx + sw), (sy + sh)), (0, 0, 255), 2) \n",
    "    return frame "
   ]
  },
  {
   "cell_type": "code",
   "execution_count": 4,
   "metadata": {},
   "outputs": [],
   "source": [
    "video_capture = cv2.VideoCapture(0) \n",
    "while True: \n",
    "# Captures video_capture frame by frame \n",
    "    _, frame = video_capture.read() \n",
    "\n",
    "    # To capture image in monochrome\n",
    "    \n",
    "    # calls the detect() function \n",
    "    canvas = smiledetect(frame) \n",
    "\n",
    "    # Displays the result on camera feed\n",
    "    cv2.imshow('Video', canvas) \n",
    "\n",
    "    # The control breaks once q key is pressed\n",
    "    if cv2.waitKey(1) & 0xff == ord('q'): \n",
    "        break\n",
    "\n",
    "# Release the capture once all the processing is done. \n",
    "video_capture.release()\n",
    "cv2.destroyAllWindows() \n"
   ]
  }
 ],
 "metadata": {
  "kernelspec": {
   "display_name": "Python 3",
   "language": "python",
   "name": "python3"
  },
  "language_info": {
   "codemirror_mode": {
    "name": "ipython",
    "version": 3
   },
   "file_extension": ".py",
   "mimetype": "text/x-python",
   "name": "python",
   "nbconvert_exporter": "python",
   "pygments_lexer": "ipython3",
   "version": "3.7.3"
  }
 },
 "nbformat": 4,
 "nbformat_minor": 2
}
