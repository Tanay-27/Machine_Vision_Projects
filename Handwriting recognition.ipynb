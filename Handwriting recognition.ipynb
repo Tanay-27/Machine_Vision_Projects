{
 "cells": [
  {
   "cell_type": "code",
   "execution_count": 33,
   "metadata": {},
   "outputs": [
    {
     "data": {
      "text/plain": [
       "-1"
      ]
     },
     "execution_count": 33,
     "metadata": {},
     "output_type": "execute_result"
    }
   ],
   "source": [
    "import cv2\n",
    "import numpy as np\n",
    "#import image\n",
    "image = cv2.imread('text11.jpg')\n",
    "\n",
    "#grayscale\n",
    "gray = cv2.cvtColor(image,cv2.COLOR_BGR2GRAY)\n",
    "\n",
    "#binary\n",
    "ret,thresh = cv2.threshold(gray,127,255,cv2.THRESH_BINARY_INV)\n",
    "\n",
    "#dilation    tweek this based on functions\n",
    "kernel = np.ones((3,17), np.uint8)\n",
    "img_dilation = cv2.dilate(thresh, kernel, iterations=1)\n",
    "\n",
    "#find contours\n",
    "ctrs, hier = cv2.findContours(img_dilation, cv2.RETR_EXTERNAL, cv2.CHAIN_APPROX_SIMPLE)\n",
    "\n",
    "#sort contours  \n",
    "sorted_ctrs = sorted(ctrs, key=lambda ctr: cv2.boundingRect(ctr)[0])\n",
    "\n",
    "for i, ctr in enumerate(sorted_ctrs):\n",
    "    # Get bounding box\n",
    "    x, y, w, h = cv2.boundingRect(ctr)\n",
    "\n",
    "    # Getting ROI    # length and width of roi\n",
    "    roi = image[y:y+h, x:x+w]\n",
    "\n",
    "    # show ROI           #start # end points     # colour #thickness\n",
    "    cv2.rectangle(image,(x,y),( x + w, y + h ),(90,0,255),2)\n",
    "\n",
    "cv2.imshow('marked areas',image)\n",
    "cv2.waitKey(0)"
   ]
  },
  {
   "cell_type": "code",
   "execution_count": 5,
   "metadata": {},
   "outputs": [
    {
     "name": "stdout",
     "output_type": "stream",
     "text": [
      "Help on built-in function findContours:\n",
      "\n",
      "findContours(...)\n",
      "    findContours(image, mode, method[, contours[, hierarchy[, offset]]]) -> contours, hierarchy\n",
      "    .   @brief Finds contours in a binary image.\n",
      "    .   \n",
      "    .   The function retrieves contours from the binary image using the algorithm @cite Suzuki85 . The contours\n",
      "    .   are a useful tool for shape analysis and object detection and recognition. See squares.cpp in the\n",
      "    .   OpenCV sample directory.\n",
      "    .   @note Since opencv 3.2 source image is not modified by this function.\n",
      "    .   \n",
      "    .   @param image Source, an 8-bit single-channel image. Non-zero pixels are treated as 1's. Zero\n",
      "    .   pixels remain 0's, so the image is treated as binary . You can use #compare, #inRange, #threshold ,\n",
      "    .   #adaptiveThreshold, #Canny, and others to create a binary image out of a grayscale or color one.\n",
      "    .   If mode equals to #RETR_CCOMP or #RETR_FLOODFILL, the input can also be a 32-bit integer image of labels (CV_32SC1).\n",
      "    .   @param contours Detected contours. Each contour is stored as a vector of points (e.g.\n",
      "    .   std::vector<std::vector<cv::Point> >).\n",
      "    .   @param hierarchy Optional output vector (e.g. std::vector<cv::Vec4i>), containing information about the image topology. It has\n",
      "    .   as many elements as the number of contours. For each i-th contour contours[i], the elements\n",
      "    .   hierarchy[i][0] , hierarchy[i][1] , hierarchy[i][2] , and hierarchy[i][3] are set to 0-based indices\n",
      "    .   in contours of the next and previous contours at the same hierarchical level, the first child\n",
      "    .   contour and the parent contour, respectively. If for the contour i there are no next, previous,\n",
      "    .   parent, or nested contours, the corresponding elements of hierarchy[i] will be negative.\n",
      "    .   @param mode Contour retrieval mode, see #RetrievalModes\n",
      "    .   @param method Contour approximation method, see #ContourApproximationModes\n",
      "    .   @param offset Optional offset by which every contour point is shifted. This is useful if the\n",
      "    .   contours are extracted from the image ROI and then they should be analyzed in the whole image\n",
      "    .   context.\n",
      "\n"
     ]
    }
   ],
   "source": [
    "help(cv2.findContours)"
   ]
  },
  {
   "cell_type": "code",
   "execution_count": null,
   "metadata": {},
   "outputs": [],
   "source": []
  }
 ],
 "metadata": {
  "kernelspec": {
   "display_name": "Python 3",
   "language": "python",
   "name": "python3"
  },
  "language_info": {
   "codemirror_mode": {
    "name": "ipython",
    "version": 3
   },
   "file_extension": ".py",
   "mimetype": "text/x-python",
   "name": "python",
   "nbconvert_exporter": "python",
   "pygments_lexer": "ipython3",
   "version": "3.7.3"
  }
 },
 "nbformat": 4,
 "nbformat_minor": 2
}
